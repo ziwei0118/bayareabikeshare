{
 "cells": [
  {
   "cell_type": "code",
   "execution_count": 92,
   "metadata": {
    "collapsed": true
   },
   "outputs": [],
   "source": [
    "import pandas as pd"
   ]
  },
  {
   "cell_type": "code",
   "execution_count": 93,
   "metadata": {
    "collapsed": true
   },
   "outputs": [],
   "source": [
    "df1 = pd.read_csv('data/201402_weather_data.csv')\n",
    "df2 = pd.read_csv('data/201408_weather_data.csv')\n",
    "df3 = pd.read_csv('data/201508_weather_data.csv')"
   ]
  },
  {
   "cell_type": "code",
   "execution_count": 94,
   "metadata": {
    "collapsed": false
   },
   "outputs": [
    {
     "data": {
      "text/plain": [
       "False"
      ]
     },
     "execution_count": 94,
     "metadata": {},
     "output_type": "execute_result"
    }
   ],
   "source": [
    "df1.columns.tolist()  == df3.columns.tolist()"
   ]
  },
  {
   "cell_type": "code",
   "execution_count": 95,
   "metadata": {
    "collapsed": false
   },
   "outputs": [],
   "source": [
    "df2.columns = df1.columns\n",
    "df3.columns = df1.columns"
   ]
  },
  {
   "cell_type": "code",
   "execution_count": 96,
   "metadata": {
    "collapsed": false
   },
   "outputs": [],
   "source": [
    "df = pd.concat([df1, df2, df3], ignore_index=True)"
   ]
  },
  {
   "cell_type": "code",
   "execution_count": 97,
   "metadata": {
    "collapsed": true
   },
   "outputs": [],
   "source": [
    "df['Date'] = pd.to_datetime(df['Date'])"
   ]
  },
  {
   "cell_type": "code",
   "execution_count": 98,
   "metadata": {
    "collapsed": false
   },
   "outputs": [],
   "source": [
    "df = df.sort_values(by=['Date', 'zip'])"
   ]
  },
  {
   "cell_type": "code",
   "execution_count": 105,
   "metadata": {
    "collapsed": false
   },
   "outputs": [
    {
     "data": {
      "text/plain": [
       "Date                           False\n",
       "Max_Temperature_F               True\n",
       "Mean_Temperature_F              True\n",
       "Min_TemperatureF                True\n",
       "Max_Dew_Point_F                 True\n",
       "MeanDew_Point_F                 True\n",
       "Min_Dewpoint_F                  True\n",
       "Max_Humidity                    True\n",
       "Mean_Humidity                   True\n",
       "Min_Humidity                    True\n",
       "Max_Sea_Level_Pressure_In       True\n",
       "Mean_Sea_Level_Pressure_In      True\n",
       "Min_Sea_Level_Pressure_In       True\n",
       "Max_Visibility_Miles            True\n",
       "Mean_Visibility_Miles           True\n",
       "Min_Visibility_Miles            True\n",
       "Max_Wind_Speed_MPH              True\n",
       "Mean_Wind_Speed_MPH             True\n",
       "Max_Gust_Speed_MPH              True\n",
       "Precipitation_In                True\n",
       "Cloud_Cover                     True\n",
       "Events                          True\n",
       "Wind_Dir_Degrees                True\n",
       "zip                            False\n",
       "dtype: bool"
      ]
     },
     "execution_count": 105,
     "metadata": {},
     "output_type": "execute_result"
    }
   ],
   "source": [
    "df.loc[:,:].isnull().any()"
   ]
  }
 ],
 "metadata": {
  "kernelspec": {
   "display_name": "Python 2",
   "language": "python",
   "name": "python2"
  },
  "language_info": {
   "codemirror_mode": {
    "name": "ipython",
    "version": 2
   },
   "file_extension": ".py",
   "mimetype": "text/x-python",
   "name": "python",
   "nbconvert_exporter": "python",
   "pygments_lexer": "ipython2",
   "version": "2.7.10"
  }
 },
 "nbformat": 4,
 "nbformat_minor": 0
}
