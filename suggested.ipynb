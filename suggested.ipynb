{
 "cells": [
  {
   "cell_type": "code",
   "execution_count": 217,
   "metadata": {
    "collapsed": false
   },
   "outputs": [],
   "source": [
    "import re\n",
    "import requests\n",
    "import json\n",
    "import pandas as pd\n",
    "import sets\n",
    "from collections import namedtuple"
   ]
  },
  {
   "cell_type": "code",
   "execution_count": 39,
   "metadata": {
    "collapsed": false
   },
   "outputs": [
    {
     "data": {
      "text/plain": [
       "dict_keys([u'type', u'features', u'metadata'])"
      ]
     },
     "execution_count": 39,
     "metadata": {},
     "output_type": "execute_result"
    }
   ],
   "source": [
    "with open('data/test/sample-response.json','r') as f:\n",
    "    bikejson = json.load(f)\n",
    "    \n",
    "type(bikejson)\n",
    "\n",
    "bikejson.viewkeys()"
   ]
  },
  {
   "cell_type": "code",
   "execution_count": 170,
   "metadata": {
    "collapsed": false
   },
   "outputs": [
    {
     "name": "stdout",
     "output_type": "stream",
     "text": [
      "200\n",
      "100\n",
      "67\n",
      "[u'type', u'features', u'metadata']\n",
      "[u'geometry', u'type', u'properties', u'id']\n",
      "[u'dataset', u'shopping', u'attachments', u'updated_datetime', u'url', u'submission_sets', u'visible', u'location_type', u'created_datetime', u'location', u'submitter', u'home', u'submitter_name', u'user_token', u'id', u'description']\n",
      "http://shareaboutsapi2.herokuapp.com/api/v2/fkh/datasets/babs/places/356891\n"
     ]
    },
    {
     "data": {
      "text/plain": [
       "8"
      ]
     },
     "execution_count": 170,
     "metadata": {},
     "output_type": "execute_result"
    }
   ],
   "source": [
    "payload = {'page': 10, 'include_submissions': 'false'} \n",
    "url = 'http://suggest.bayareabikeshare.com/api/places'\n",
    "\n",
    "response = requests.get(url,payload)\n",
    "text = response.text\n",
    "\n",
    "ids = re.findall(r'id\":\\s(\\d+)', text)\n",
    "print len(ids)\n",
    "# print ids\n",
    "print len(sets.Set(ids))\n",
    "\n",
    "\n",
    "supports = re.findall(r'support\", \"length\":\\s(\\d+)', text)\n",
    "# supports = re.findall(r'support...................', text)\n",
    "print len(supports)\n",
    "# print len(supports)\n",
    "\n",
    "st_json = response.json()\n",
    "print st_json.keys()\n",
    "print st_json['features'][0].keys()\n",
    "print st_json['features'][0]['properties'].keys()\n",
    "print st_json['features'][0]['properties']['url']\n",
    "st_json['features'][0]['properties']['submission_sets']['support']['length']\n",
    "#intersting features uner properties: id, location, submission_sets, description, work, shopping\n",
    "#under location: u'adminArea#, LatLng, postalCode"
   ]
  },
  {
   "cell_type": "code",
   "execution_count": 125,
   "metadata": {
    "collapsed": false
   },
   "outputs": [],
   "source": [
    "# save all jsons to disk\n",
    "url = 'http://suggest.bayareabikeshare.com/api/places'\n",
    "pages = range(1,48)\n",
    "\n",
    "for page in pages: \n",
    "    payload = {'page': page, 'include_submissions': 'false'}\n",
    "    response = requests.get(url,payload)\n",
    "    st_json = response.json()\n",
    "    with open('data/suggestion-json/page'+str(page),'w') as f:\n",
    "        json.dump(st_json, f)\n",
    "        \n"
   ]
  },
  {
   "cell_type": "code",
   "execution_count": 186,
   "metadata": {
    "collapsed": false
   },
   "outputs": [],
   "source": [
    "# function to parse out infomation from json, return a namedtuple\n",
    "def parseJson(st_json):\n",
    "    stationBasic = namedtuple('stationBasic', ['stid','lat','lng','weight'])\n",
    "    stationBasics = []\n",
    "    for i in range(len(st_json['features'])):\n",
    "        stid = st_json['features'][i]['id']\n",
    "        lat = st_json['features'][i]['geometry']['coordinates'][1]\n",
    "        lng = st_json['features'][i]['geometry']['coordinates'][0]\n",
    "        if st_json['features'][i]['properties']['submission_sets'].has_key('support') == True:\n",
    "            weight = st_json['features'][i]['properties']['submission_sets']['support']['length']\n",
    "        else:\n",
    "            weight = 0\n",
    "        stationBasics.append( stationBasic(stid = stid, lat = lat, lng = lng, weight = weight) )\n",
    "    return stationBasics\n",
    "\n",
    "test = st_json\n",
    "testvalue = parseJson(test)\n",
    "# test if has valid supports\n",
    "# df = pd.DataFrame(result)\n",
    "# df[3].value_counts()\n",
    "# testvalue"
   ]
  },
  {
   "cell_type": "code",
   "execution_count": 216,
   "metadata": {
    "collapsed": false
   },
   "outputs": [],
   "source": [
    "# read jsons and parse out the needed data\n",
    "pages = range(1,48)\n",
    "\n",
    "parsed = []\n",
    "for page in pages: \n",
    "    filename = 'data/suggestion-json/page' + str(page)\n",
    "    with open(filename, 'r') as f:\n",
    "        st_json = json.load(f)\n",
    "#         print len(parseJson(st_json))\n",
    "        parsed.extend( parseJson(st_json) )\n",
    "        \n",
    "columns = ['stid','lat','lng','weight']\n",
    "df  = pd.DataFrame(parsed, columns=['stid','lat','lng','weight'])\n",
    "df['weight'].sum()\n",
    "df['lng'].describe()\n",
    "\n",
    "df.to_csv('data/suggestions.csv',index = False)"
   ]
  },
  {
   "cell_type": "code",
   "execution_count": 222,
   "metadata": {
    "collapsed": false
   },
   "outputs": [
    {
     "name": "stdout",
     "output_type": "stream",
     "text": [
      "30900\n"
     ]
    }
   ],
   "source": [
    "df = pd.read_csv('data/suggestions.csv')\n",
    "print df['weight'].sum()"
   ]
  }
 ],
 "metadata": {
  "kernelspec": {
   "display_name": "Python 2",
   "language": "python",
   "name": "python2"
  },
  "language_info": {
   "codemirror_mode": {
    "name": "ipython",
    "version": 2
   },
   "file_extension": ".py",
   "mimetype": "text/x-python",
   "name": "python",
   "nbconvert_exporter": "python",
   "pygments_lexer": "ipython2",
   "version": "2.7.11"
  }
 },
 "nbformat": 4,
 "nbformat_minor": 0
}
